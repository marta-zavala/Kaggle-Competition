{
 "cells": [
  {
   "cell_type": "code",
   "execution_count": 1,
   "metadata": {},
   "outputs": [],
   "source": [
    "import pandas as pd\n",
    "import numpy as np\n",
    "from sklearn.ensemble import ExtraTreesRegressor\n",
    "from sklearn.model_selection import train_test_split, cross_val_score\n",
    "from sklearn.metrics import mean_squared_error\n",
    "from sklearn.model_selection import GridSearchCV"
   ]
  },
  {
   "cell_type": "code",
   "execution_count": 2,
   "metadata": {},
   "outputs": [],
   "source": [
    "train = pd.read_csv(\"output/train_clean.csv\", index_col=0)\n",
    "predict = pd.read_csv(\"output/predict_clean.csv\", index_col=0)"
   ]
  },
  {
   "cell_type": "markdown",
   "metadata": {},
   "source": [
    "##### Train Test Split"
   ]
  },
  {
   "cell_type": "code",
   "execution_count": 3,
   "metadata": {},
   "outputs": [
    {
     "name": "stdout",
     "output_type": "stream",
     "text": [
      "(32364, 9)\n",
      "(32364,)\n",
      "(8091, 9)\n",
      "(8091,)\n"
     ]
    }
   ],
   "source": [
    "X = train.drop(columns='price')\n",
    "y = train.price\n",
    "\n",
    "X_train, X_test, y_train, y_test = train_test_split(X, y, test_size=0.2)\n",
    "print(X_train.shape)\n",
    "print(y_train.shape)\n",
    "print(X_test.shape)\n",
    "print(y_test.shape)"
   ]
  },
  {
   "cell_type": "code",
   "execution_count": 4,
   "metadata": {},
   "outputs": [
    {
     "name": "stdout",
     "output_type": "stream",
     "text": [
      "-------ExtraTreesRegressor-------\n",
      "RMSE 578.66\n",
      "ExtraTrees Accuracy 0.9801052965821431\n"
     ]
    }
   ],
   "source": [
    "print(f\"-------ExtraTreesRegressor-------\")\n",
    "model = ExtraTreesRegressor()\n",
    "model = model.fit(X_train,y_train)\n",
    "y_pred = model.predict(X_test)\n",
    "print(\"RMSE\", round(np.sqrt(mean_squared_error(y_test,y_pred)),2))\n",
    "scores = cross_val_score(model,X,y, cv=10, n_jobs=-1)\n",
    "print(f\"ExtraTrees Accuracy {np.mean(scores)}\")"
   ]
  },
  {
   "cell_type": "markdown",
   "metadata": {},
   "source": [
    "##### GridSearchCV"
   ]
  },
  {
   "cell_type": "code",
   "execution_count": 5,
   "metadata": {},
   "outputs": [
    {
     "name": "stdout",
     "output_type": "stream",
     "text": [
      "Fitting 5 folds for each of 27 candidates, totalling 135 fits\n"
     ]
    },
    {
     "name": "stderr",
     "output_type": "stream",
     "text": [
      "[Parallel(n_jobs=-1)]: Using backend LokyBackend with 4 concurrent workers.\n",
      "[Parallel(n_jobs=-1)]: Done  42 tasks      | elapsed:  2.4min\n",
      "[Parallel(n_jobs=-1)]: Done 135 out of 135 | elapsed: 11.9min finished\n"
     ]
    },
    {
     "data": {
      "text/plain": [
       "GridSearchCV(cv=5, estimator=ExtraTreesRegressor(), n_jobs=-1,\n",
       "             param_grid={'max_depth': [10, 25, 50],\n",
       "                         'min_samples_split': [5, 10, 20],\n",
       "                         'n_estimators': [150, 250, 300]},\n",
       "             scoring='neg_root_mean_squared_error', verbose=1)"
      ]
     },
     "execution_count": 5,
     "metadata": {},
     "output_type": "execute_result"
    }
   ],
   "source": [
    "params = {\"n_estimators\":[150,250,300],\n",
    "        \"max_depth\":[10,25,50],\n",
    "        \"min_samples_split\":[5,10,20]\n",
    "       }\n",
    "\n",
    "efr = ExtraTreesRegressor()\n",
    "grid = GridSearchCV(efr,scoring=\"neg_root_mean_squared_error\",verbose=1,n_jobs=-1,param_grid=params,cv=5)\n",
    "grid.fit(X_train,y_train)"
   ]
  },
  {
   "cell_type": "code",
   "execution_count": 6,
   "metadata": {},
   "outputs": [
    {
     "data": {
      "text/plain": [
       "{'max_depth': 50, 'min_samples_split': 10, 'n_estimators': 300}"
      ]
     },
     "execution_count": 6,
     "metadata": {},
     "output_type": "execute_result"
    }
   ],
   "source": [
    "grid.best_params_"
   ]
  },
  {
   "cell_type": "code",
   "execution_count": 12,
   "metadata": {},
   "outputs": [
    {
     "name": "stdout",
     "output_type": "stream",
     "text": [
      "-------ExtraTreesRegressor-------\n",
      "RMSE 539.32\n",
      "ExtraTrees Accuracy 0.9815047637902312\n"
     ]
    }
   ],
   "source": [
    "print(f\"-------ExtraTreesRegressor-------\")\n",
    "model = ExtraTreesRegressor(n_estimators=300, min_samples_split=10, max_depth= 25) \n",
    "model = model.fit(X_train,y_train)\n",
    "y_pred = model.predict(X_test)\n",
    "print(\"RMSE\", round(np.sqrt(mean_squared_error(y_test,y_pred)),2))\n",
    "scores = cross_val_score(model,X,y, cv=10, n_jobs=-1)\n",
    "print(f\"ExtraTrees Accuracy {np.mean(scores)}\")\n",
    "\n",
    "#subm_1"
   ]
  },
  {
   "cell_type": "code",
   "execution_count": 13,
   "metadata": {},
   "outputs": [
    {
     "name": "stdout",
     "output_type": "stream",
     "text": [
      "-------ExtraTreesRegressor-------\n",
      "RMSE 538.76\n",
      "ExtraTrees Accuracy 0.9815266495008279\n"
     ]
    }
   ],
   "source": [
    "print(f\"-------ExtraTreesRegressor-------\")\n",
    "model = ExtraTreesRegressor(n_estimators=350, min_samples_split=10, max_depth= 25) \n",
    "model = model.fit(X_train,y_train)\n",
    "y_pred = model.predict(X_test)\n",
    "print(\"RMSE\", round(np.sqrt(mean_squared_error(y_test,y_pred)),2))\n",
    "scores = cross_val_score(model,X,y, cv=10, n_jobs=-1)\n",
    "print(f\"ExtraTrees Accuracy {np.mean(scores)}\")\n",
    "\n",
    "#subm_3"
   ]
  },
  {
   "cell_type": "code",
   "execution_count": 16,
   "metadata": {},
   "outputs": [
    {
     "name": "stdout",
     "output_type": "stream",
     "text": [
      "-------ExtraTreesRegressor-------\n",
      "RMSE 539.14\n",
      "ExtraTrees Accuracy 0.9815658668434859\n"
     ]
    }
   ],
   "source": [
    "print(f\"-------ExtraTreesRegressor-------\")\n",
    "model = ExtraTreesRegressor(n_estimators=1000, min_samples_split=10, max_depth= 50) \n",
    "model = model.fit(X_train,y_train)\n",
    "y_pred = model.predict(X_test)\n",
    "print(\"RMSE\", round(np.sqrt(mean_squared_error(y_test,y_pred)),2))\n",
    "scores = cross_val_score(model,X,y, cv=10, n_jobs=-1)\n",
    "print(f\"ExtraTrees Accuracy {np.mean(scores)}\")\n",
    "\n",
    "#subm_4"
   ]
  },
  {
   "cell_type": "code",
   "execution_count": 25,
   "metadata": {},
   "outputs": [
    {
     "name": "stdout",
     "output_type": "stream",
     "text": [
      "-------ExtraTreesRegressor-------\n",
      "RMSE 538.47\n",
      "ExtraTrees Accuracy 0.9815571670615825\n"
     ]
    }
   ],
   "source": [
    "print(f\"-------ExtraTreesRegressor-------\")\n",
    "model = ExtraTreesRegressor(n_estimators=1800, min_samples_split=10, max_depth= 50) \n",
    "model = model.fit(X_train,y_train)\n",
    "y_pred = model.predict(X_test)\n",
    "print(\"RMSE\", round(np.sqrt(mean_squared_error(y_test,y_pred)),2))\n",
    "scores = cross_val_score(model,X,y, cv=10, n_jobs=-1)\n",
    "print(f\"ExtraTrees Accuracy {np.mean(scores)}\")\n",
    "\n",
    "#subm_5"
   ]
  },
  {
   "cell_type": "code",
   "execution_count": null,
   "metadata": {},
   "outputs": [],
   "source": []
  }
 ],
 "metadata": {
  "kernelspec": {
   "display_name": "Python 3",
   "language": "python",
   "name": "python3"
  },
  "language_info": {
   "codemirror_mode": {
    "name": "ipython",
    "version": 3
   },
   "file_extension": ".py",
   "mimetype": "text/x-python",
   "name": "python",
   "nbconvert_exporter": "python",
   "pygments_lexer": "ipython3",
   "version": "3.7.8"
  }
 },
 "nbformat": 4,
 "nbformat_minor": 4
}
