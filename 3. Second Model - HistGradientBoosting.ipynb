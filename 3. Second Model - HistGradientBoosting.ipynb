{
 "cells": [
  {
   "cell_type": "code",
   "execution_count": 1,
   "metadata": {},
   "outputs": [],
   "source": [
    "import pandas as pd\n",
    "import numpy as np\n",
    "from sklearn.experimental import enable_hist_gradient_boosting\n",
    "from sklearn.ensemble import HistGradientBoostingRegressor\n",
    "from sklearn.model_selection import train_test_split, cross_val_score\n",
    "from sklearn.metrics import mean_squared_error\n",
    "from sklearn.model_selection import GridSearchCV"
   ]
  },
  {
   "cell_type": "code",
   "execution_count": 2,
   "metadata": {},
   "outputs": [],
   "source": [
    "train = pd.read_csv(\"output/train_clean.csv\")\n",
    "predict = pd.read_csv(\"output/predict_clean.csv\")"
   ]
  },
  {
   "cell_type": "markdown",
   "metadata": {},
   "source": [
    "##### Train Test Split"
   ]
  },
  {
   "cell_type": "code",
   "execution_count": 3,
   "metadata": {},
   "outputs": [
    {
     "name": "stdout",
     "output_type": "stream",
     "text": [
      "(32364, 10)\n",
      "(32364,)\n",
      "(8091, 10)\n",
      "(8091,)\n"
     ]
    }
   ],
   "source": [
    "X = train.drop(columns='price')\n",
    "y = train.price\n",
    "\n",
    "X_train, X_test, y_train, y_test = train_test_split(X, y, test_size=0.2)\n",
    "print(X_train.shape)\n",
    "print(y_train.shape)\n",
    "print(X_test.shape)\n",
    "print(y_test.shape)"
   ]
  },
  {
   "cell_type": "code",
   "execution_count": 4,
   "metadata": {},
   "outputs": [
    {
     "name": "stdout",
     "output_type": "stream",
     "text": [
      "-------HistGradientBoostingRegressor-------\n",
      "RMSE 550.05\n",
      "HistGradientBoosting Accuracy 0.9799864752450489\n"
     ]
    }
   ],
   "source": [
    "print(f\"-------HistGradientBoostingRegressor-------\")\n",
    "model = HistGradientBoostingRegressor()\n",
    "model = model.fit(X_train,y_train)\n",
    "y_pred = model.predict(X_test)\n",
    "print(\"RMSE\", round(np.sqrt(mean_squared_error(y_test,y_pred)),2))\n",
    "scores = cross_val_score(model,X,y, cv=10, n_jobs=-1)\n",
    "print(f\"HistGradientBoosting Accuracy {np.mean(scores)}\")"
   ]
  },
  {
   "cell_type": "markdown",
   "metadata": {},
   "source": [
    "##### GridSearchCV"
   ]
  },
  {
   "cell_type": "code",
   "execution_count": 5,
   "metadata": {},
   "outputs": [],
   "source": [
    "params={\"loss\": ['least_squares', 'least_absolute_deviation', 'poisson'],\n",
    "        \"max_depth\":[10, 25, 50, 75, 100],\n",
    "        \"min_samples_leaf\": [10, 20, 25, 30, 35, 40, 45, 50]}\n",
    "hgbr = HistGradientBoostingRegressor()\n",
    "grid = GridSearchCV(hgbr,verbose=1,n_jobs=-1,param_grid=params,cv=5)"
   ]
  },
  {
   "cell_type": "code",
   "execution_count": 6,
   "metadata": {},
   "outputs": [
    {
     "name": "stdout",
     "output_type": "stream",
     "text": [
      "Fitting 5 folds for each of 120 candidates, totalling 600 fits\n"
     ]
    },
    {
     "name": "stderr",
     "output_type": "stream",
     "text": [
      "[Parallel(n_jobs=-1)]: Using backend LokyBackend with 4 concurrent workers.\n",
      "[Parallel(n_jobs=-1)]: Done  42 tasks      | elapsed:   38.9s\n",
      "[Parallel(n_jobs=-1)]: Done 192 tasks      | elapsed:  3.0min\n",
      "[Parallel(n_jobs=-1)]: Done 442 tasks      | elapsed:  8.3min\n",
      "[Parallel(n_jobs=-1)]: Done 600 out of 600 | elapsed: 11.9min finished\n"
     ]
    },
    {
     "data": {
      "text/plain": [
       "GridSearchCV(cv=5, estimator=HistGradientBoostingRegressor(), n_jobs=-1,\n",
       "             param_grid={'loss': ['least_squares', 'least_absolute_deviation',\n",
       "                                  'poisson'],\n",
       "                         'max_depth': [10, 25, 50, 75, 100],\n",
       "                         'min_samples_leaf': [10, 20, 25, 30, 35, 40, 45, 50]},\n",
       "             verbose=1)"
      ]
     },
     "execution_count": 6,
     "metadata": {},
     "output_type": "execute_result"
    }
   ],
   "source": [
    "grid.fit(X_train,y_train)"
   ]
  },
  {
   "cell_type": "code",
   "execution_count": 7,
   "metadata": {},
   "outputs": [
    {
     "data": {
      "text/plain": [
       "{'loss': 'poisson', 'max_depth': 100, 'min_samples_leaf': 10}"
      ]
     },
     "execution_count": 7,
     "metadata": {},
     "output_type": "execute_result"
    }
   ],
   "source": [
    "grid.best_params_"
   ]
  },
  {
   "cell_type": "code",
   "execution_count": 15,
   "metadata": {},
   "outputs": [
    {
     "name": "stdout",
     "output_type": "stream",
     "text": [
      "-------HistGradientBoostingRegressor-------\n",
      "RMSE 565.03\n",
      "HistGradientBoosting Accuracy 0.9801965590229873\n"
     ]
    }
   ],
   "source": [
    "print(f\"-------HistGradientBoostingRegressor-------\")\n",
    "model_grid = HistGradientBoostingRegressor(max_depth=25, min_samples_leaf=25) \n",
    "model_grid = model.fit(X_train,y_train)\n",
    "y_pred = model_grid.predict(X_test)\n",
    "print(\"RMSE\", round(np.sqrt(mean_squared_error(y_test,y_pred)),2))\n",
    "scores = cross_val_score(model_grid,X,y, cv=10, n_jobs=-1)\n",
    "print(f\"HistGradientBoosting Accuracy {np.mean(scores)}\")\n",
    "\n",
    "#subm_2.csv"
   ]
  },
  {
   "cell_type": "code",
   "execution_count": 8,
   "metadata": {},
   "outputs": [
    {
     "name": "stdout",
     "output_type": "stream",
     "text": [
      "-------HistGradientBoostingRegressor-------\n",
      "RMSE 549.75\n",
      "HistGradientBoosting Accuracy 0.9802148936541084\n"
     ]
    }
   ],
   "source": [
    "print(f\"-------HistGradientBoostingRegressor-------\")\n",
    "model_grid = HistGradientBoostingRegressor(loss='poisson', max_depth=100, min_samples_leaf=10) \n",
    "model_grid = model.fit(X_train,y_train)\n",
    "y_pred = model_grid.predict(X_test)\n",
    "print(\"RMSE\", round(np.sqrt(mean_squared_error(y_test,y_pred)),2))\n",
    "scores = cross_val_score(model_grid,X,y, cv=10, n_jobs=-1)\n",
    "print(f\"HistGradientBoosting Accuracy {np.mean(scores)}\")"
   ]
  },
  {
   "cell_type": "code",
   "execution_count": 19,
   "metadata": {},
   "outputs": [],
   "source": [
    "y_train_t = train.price\n",
    "X_train_t = train.drop(columns='price')\n",
    "X_test_t = predict\n",
    "\n",
    "model3 = HistGradientBoostingRegressor(max_depth= 30, min_samples_leaf=2) \n",
    "model3 = model3.fit(X_train_t, y_train_t)\n",
    "y_pred = model3.predict(X_test_t)\n",
    "\n",
    "predict['price'] = y_pred\n",
    "sub = predict[['id','price']]\n",
    "sub.to_csv('subm_.csv', index=False, header=True)"
   ]
  },
  {
   "cell_type": "markdown",
   "metadata": {},
   "source": [
    "##### GridSearchCV 2"
   ]
  },
  {
   "cell_type": "code",
   "execution_count": 9,
   "metadata": {},
   "outputs": [],
   "source": [
    "params={\"loss\": ['least_squares', 'least_absolute_deviation', 'poisson'],\n",
    "        \"max_depth\":[50, 75, 100, 125, 150, 200],\n",
    "        \"min_samples_leaf\": [2, 5, 10, 20, 25, 30]}\n",
    "hgbr = HistGradientBoostingRegressor()\n",
    "grid = GridSearchCV(hgbr,verbose=1,n_jobs=-1,param_grid=params,cv=5)"
   ]
  },
  {
   "cell_type": "code",
   "execution_count": 10,
   "metadata": {},
   "outputs": [
    {
     "name": "stdout",
     "output_type": "stream",
     "text": [
      "Fitting 5 folds for each of 108 candidates, totalling 540 fits\n"
     ]
    },
    {
     "name": "stderr",
     "output_type": "stream",
     "text": [
      "[Parallel(n_jobs=-1)]: Using backend LokyBackend with 4 concurrent workers.\n",
      "[Parallel(n_jobs=-1)]: Done  42 tasks      | elapsed:   44.5s\n",
      "[Parallel(n_jobs=-1)]: Done 192 tasks      | elapsed:  3.5min\n",
      "[Parallel(n_jobs=-1)]: Done 442 tasks      | elapsed:  9.9min\n",
      "[Parallel(n_jobs=-1)]: Done 540 out of 540 | elapsed: 11.6min finished\n"
     ]
    },
    {
     "data": {
      "text/plain": [
       "GridSearchCV(cv=5, estimator=HistGradientBoostingRegressor(), n_jobs=-1,\n",
       "             param_grid={'loss': ['least_squares', 'least_absolute_deviation',\n",
       "                                  'poisson'],\n",
       "                         'max_depth': [50, 75, 100, 125, 150, 200],\n",
       "                         'min_samples_leaf': [2, 5, 10, 20, 25, 30]},\n",
       "             verbose=1)"
      ]
     },
     "execution_count": 10,
     "metadata": {},
     "output_type": "execute_result"
    }
   ],
   "source": [
    "grid.fit(X_train,y_train)"
   ]
  },
  {
   "cell_type": "code",
   "execution_count": 11,
   "metadata": {},
   "outputs": [
    {
     "data": {
      "text/plain": [
       "{'loss': 'least_squares', 'max_depth': 150, 'min_samples_leaf': 2}"
      ]
     },
     "execution_count": 11,
     "metadata": {},
     "output_type": "execute_result"
    }
   ],
   "source": [
    "grid.best_params_"
   ]
  },
  {
   "cell_type": "code",
   "execution_count": 12,
   "metadata": {},
   "outputs": [
    {
     "name": "stdout",
     "output_type": "stream",
     "text": [
      "-------HistGradientBoostingRegressor-------\n",
      "RMSE 544.39\n",
      "HistGradientBoosting Accuracy 0.9802441208379464\n"
     ]
    }
   ],
   "source": [
    "print(f\"-------HistGradientBoostingRegressor-------\")\n",
    "model_grid = HistGradientBoostingRegressor(loss='least_squares', max_depth=150, min_samples_leaf=2) \n",
    "model_grid = model.fit(X_train,y_train)\n",
    "y_pred = model_grid.predict(X_test)\n",
    "print(\"RMSE\", round(np.sqrt(mean_squared_error(y_test,y_pred)),2))\n",
    "scores = cross_val_score(model_grid,X,y, cv=10, n_jobs=-1)\n",
    "print(f\"HistGradientBoosting Accuracy {np.mean(scores)}\")"
   ]
  },
  {
   "cell_type": "code",
   "execution_count": null,
   "metadata": {},
   "outputs": [],
   "source": []
  }
 ],
 "metadata": {
  "kernelspec": {
   "display_name": "Python 3",
   "language": "python",
   "name": "python3"
  },
  "language_info": {
   "codemirror_mode": {
    "name": "ipython",
    "version": 3
   },
   "file_extension": ".py",
   "mimetype": "text/x-python",
   "name": "python",
   "nbconvert_exporter": "python",
   "pygments_lexer": "ipython3",
   "version": "3.7.8"
  }
 },
 "nbformat": 4,
 "nbformat_minor": 4
}
