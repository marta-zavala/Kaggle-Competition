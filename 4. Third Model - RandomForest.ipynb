{
 "cells": [
  {
   "cell_type": "code",
   "execution_count": 1,
   "metadata": {},
   "outputs": [],
   "source": [
    "import pandas as pd\n",
    "import numpy as np\n",
    "from sklearn.ensemble import RandomForestRegressor\n",
    "from sklearn.model_selection import train_test_split, cross_val_score\n",
    "from sklearn.metrics import mean_squared_error\n",
    "from sklearn.model_selection import GridSearchCV"
   ]
  },
  {
   "cell_type": "code",
   "execution_count": 2,
   "metadata": {},
   "outputs": [],
   "source": [
    "train = pd.read_csv(\"output/train_clean.csv\")\n",
    "predict = pd.read_csv(\"output/predict_clean.csv\")"
   ]
  },
  {
   "cell_type": "markdown",
   "metadata": {},
   "source": [
    "##### Train Test Split"
   ]
  },
  {
   "cell_type": "code",
   "execution_count": 3,
   "metadata": {},
   "outputs": [
    {
     "name": "stdout",
     "output_type": "stream",
     "text": [
      "(32364, 10)\n",
      "(32364,)\n",
      "(8091, 10)\n",
      "(8091,)\n"
     ]
    }
   ],
   "source": [
    "X = train.drop(columns='price')\n",
    "y = train.price\n",
    "\n",
    "X_train, X_test, y_train, y_test = train_test_split(X, y, test_size=0.2)\n",
    "print(X_train.shape)\n",
    "print(y_train.shape)\n",
    "print(X_test.shape)\n",
    "print(y_test.shape)"
   ]
  },
  {
   "cell_type": "code",
   "execution_count": 4,
   "metadata": {},
   "outputs": [
    {
     "name": "stdout",
     "output_type": "stream",
     "text": [
      "-------RandomForestRegressor-------\n",
      "RMSE 552.79\n",
      "RandomForest Accuracy 0.9796128879278792\n"
     ]
    }
   ],
   "source": [
    "print(f\"-------RandomForestRegressor-------\")\n",
    "model = RandomForestRegressor()\n",
    "model = model.fit(X_train,y_train)\n",
    "y_pred = model.predict(X_test)\n",
    "print(\"RMSE\", round(np.sqrt(mean_squared_error(y_test,y_pred)),2))\n",
    "scores = cross_val_score(model,X,y, cv=10, n_jobs=-1)\n",
    "print(f\"RandomForest Accuracy {np.mean(scores)}\")"
   ]
  },
  {
   "cell_type": "markdown",
   "metadata": {},
   "source": [
    "##### GridSearchCV"
   ]
  },
  {
   "cell_type": "code",
   "execution_count": 5,
   "metadata": {},
   "outputs": [],
   "source": [
    "parameters = {'max_depth': [10, 20, 40, 60, 80, 100],\n",
    "              'max_features': [0, 5, 10],\n",
    "              'min_samples_leaf': [10, 20, 30],\n",
    "              'min_samples_split': [10, 15, 20],\n",
    "              'n_estimators': [50, 100, 200, 400, 800, 1000, 1600]}"
   ]
  },
  {
   "cell_type": "code",
   "execution_count": null,
   "metadata": {},
   "outputs": [],
   "source": [
    "rfc = RandomForestRegressor()\n",
    "grid = GridSearchCV(rfc, parameters, verbose=1, n_jobs=-1, cv=5)\n",
    "grid.fit(X_train,y_train)"
   ]
  },
  {
   "cell_type": "code",
   "execution_count": null,
   "metadata": {},
   "outputs": [],
   "source": [
    "print(grid.best_params_)"
   ]
  },
  {
   "cell_type": "code",
   "execution_count": 9,
   "metadata": {},
   "outputs": [
    {
     "name": "stdout",
     "output_type": "stream",
     "text": [
      "RMSE 629.77\n",
      "RandomForest Accuracy 0.9735143215550446\n"
     ]
    }
   ],
   "source": [
    "model = RandomForestRegressor(max_depth=10, max_features=10, min_samples_leaf=20, min_samples_split=15, n_estimators=50)\n",
    "model = model.fit(X_train, y_train)\n",
    "y_pred = model.predict(X_test)\n",
    "print(\"RMSE\", round(np.sqrt(mean_squared_error(y_test,y_pred)),2))\n",
    "scores = cross_val_score(model,X,y, cv=10, n_jobs=-1)\n",
    "print(f\"RandomForest Accuracy {np.mean(scores)}\")"
   ]
  },
  {
   "cell_type": "code",
   "execution_count": null,
   "metadata": {},
   "outputs": [],
   "source": []
  }
 ],
 "metadata": {
  "kernelspec": {
   "display_name": "Python 3",
   "language": "python",
   "name": "python3"
  },
  "language_info": {
   "codemirror_mode": {
    "name": "ipython",
    "version": 3
   },
   "file_extension": ".py",
   "mimetype": "text/x-python",
   "name": "python",
   "nbconvert_exporter": "python",
   "pygments_lexer": "ipython3",
   "version": "3.7.8"
  }
 },
 "nbformat": 4,
 "nbformat_minor": 4
}
