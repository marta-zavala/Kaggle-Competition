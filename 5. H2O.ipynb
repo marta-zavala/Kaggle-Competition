{
 "cells": [
  {
   "cell_type": "code",
   "execution_count": 1,
   "metadata": {},
   "outputs": [],
   "source": [
    "import pandas as pd\n",
    "import h2o\n",
    "from h2o.automl import H2OAutoML"
   ]
  },
  {
   "cell_type": "code",
   "execution_count": 2,
   "metadata": {},
   "outputs": [],
   "source": [
    "train = pd.read_csv(\"input/train.csv\", index_col=0)\n",
    "pred = pd.read_csv(\"input/predict.csv\", index_col=0)"
   ]
  },
  {
   "cell_type": "code",
   "execution_count": 3,
   "metadata": {},
   "outputs": [
    {
     "name": "stdout",
     "output_type": "stream",
     "text": [
      "Checking whether there is an H2O instance running at http://localhost:54321 ..... not found.\n",
      "Attempting to start a local H2O server...\n",
      "  Java Version: java version \"11.0.8\" 2020-07-14 LTS; Java(TM) SE Runtime Environment 18.9 (build 11.0.8+10-LTS); Java HotSpot(TM) 64-Bit Server VM 18.9 (build 11.0.8+10-LTS, mixed mode)\n",
      "  Starting server from /usr/local/lib/python3.7/site-packages/h2o/backend/bin/h2o.jar\n",
      "  Ice root: /var/folders/sk/1lhjy0853tx4hgjhly1z34pc0000gn/T/tmpwwqq3i9n\n",
      "  JVM stdout: /var/folders/sk/1lhjy0853tx4hgjhly1z34pc0000gn/T/tmpwwqq3i9n/h2o_Marta_started_from_python.out\n",
      "  JVM stderr: /var/folders/sk/1lhjy0853tx4hgjhly1z34pc0000gn/T/tmpwwqq3i9n/h2o_Marta_started_from_python.err\n",
      "  Server is running at http://127.0.0.1:54321\n",
      "Connecting to H2O server at http://127.0.0.1:54321 ... successful.\n"
     ]
    },
    {
     "data": {
      "text/html": [
       "<div style=\"overflow:auto\"><table style=\"width:50%\"><tr><td>H2O_cluster_uptime:</td>\n",
       "<td>03 secs</td></tr>\n",
       "<tr><td>H2O_cluster_timezone:</td>\n",
       "<td>Europe/Madrid</td></tr>\n",
       "<tr><td>H2O_data_parsing_timezone:</td>\n",
       "<td>UTC</td></tr>\n",
       "<tr><td>H2O_cluster_version:</td>\n",
       "<td>3.30.1.3</td></tr>\n",
       "<tr><td>H2O_cluster_version_age:</td>\n",
       "<td>7 days, 17 hours and 13 minutes </td></tr>\n",
       "<tr><td>H2O_cluster_name:</td>\n",
       "<td>H2O_from_python_Marta_lkoymm</td></tr>\n",
       "<tr><td>H2O_cluster_total_nodes:</td>\n",
       "<td>1</td></tr>\n",
       "<tr><td>H2O_cluster_free_memory:</td>\n",
       "<td>2 Gb</td></tr>\n",
       "<tr><td>H2O_cluster_total_cores:</td>\n",
       "<td>4</td></tr>\n",
       "<tr><td>H2O_cluster_allowed_cores:</td>\n",
       "<td>4</td></tr>\n",
       "<tr><td>H2O_cluster_status:</td>\n",
       "<td>accepting new members, healthy</td></tr>\n",
       "<tr><td>H2O_connection_url:</td>\n",
       "<td>http://127.0.0.1:54321</td></tr>\n",
       "<tr><td>H2O_connection_proxy:</td>\n",
       "<td>{\"http\": null, \"https\": null}</td></tr>\n",
       "<tr><td>H2O_internal_security:</td>\n",
       "<td>False</td></tr>\n",
       "<tr><td>H2O_API_Extensions:</td>\n",
       "<td>Amazon S3, XGBoost, Algos, AutoML, Core V3, TargetEncoder, Core V4</td></tr>\n",
       "<tr><td>Python_version:</td>\n",
       "<td>3.7.8 final</td></tr></table></div>"
      ],
      "text/plain": [
       "--------------------------  ------------------------------------------------------------------\n",
       "H2O_cluster_uptime:         03 secs\n",
       "H2O_cluster_timezone:       Europe/Madrid\n",
       "H2O_data_parsing_timezone:  UTC\n",
       "H2O_cluster_version:        3.30.1.3\n",
       "H2O_cluster_version_age:    7 days, 17 hours and 13 minutes\n",
       "H2O_cluster_name:           H2O_from_python_Marta_lkoymm\n",
       "H2O_cluster_total_nodes:    1\n",
       "H2O_cluster_free_memory:    2 Gb\n",
       "H2O_cluster_total_cores:    4\n",
       "H2O_cluster_allowed_cores:  4\n",
       "H2O_cluster_status:         accepting new members, healthy\n",
       "H2O_connection_url:         http://127.0.0.1:54321\n",
       "H2O_connection_proxy:       {\"http\": null, \"https\": null}\n",
       "H2O_internal_security:      False\n",
       "H2O_API_Extensions:         Amazon S3, XGBoost, Algos, AutoML, Core V3, TargetEncoder, Core V4\n",
       "Python_version:             3.7.8 final\n",
       "--------------------------  ------------------------------------------------------------------"
      ]
     },
     "metadata": {},
     "output_type": "display_data"
    }
   ],
   "source": [
    "h2o.init()"
   ]
  },
  {
   "cell_type": "code",
   "execution_count": 4,
   "metadata": {},
   "outputs": [
    {
     "name": "stdout",
     "output_type": "stream",
     "text": [
      "Parse progress: |█████████████████████████████████████████████████████████| 100%\n",
      "Parse progress: |█████████████████████████████████████████████████████████| 100%\n"
     ]
    }
   ],
   "source": [
    "h2train = h2o.H2OFrame(train)\n",
    "h2pred = h2o.H2OFrame(pred)"
   ]
  },
  {
   "cell_type": "code",
   "execution_count": 5,
   "metadata": {},
   "outputs": [],
   "source": [
    "x = list(train.drop(columns='price').columns)\n",
    "y = 'price'"
   ]
  },
  {
   "cell_type": "code",
   "execution_count": 52,
   "metadata": {},
   "outputs": [
    {
     "name": "stdout",
     "output_type": "stream",
     "text": [
      "AutoML progress: |████████████████████████████████████████████████████████| 100%\n"
     ]
    }
   ],
   "source": [
    "automl = H2OAutoML(max_models=50, seed=1,max_runtime_secs=1200, sort_metric='RMSE')\n",
    "automl.train(x, y, training_frame=h2train)"
   ]
  },
  {
   "cell_type": "code",
   "execution_count": 53,
   "metadata": {},
   "outputs": [
    {
     "data": {
      "text/html": [
       "<table>\n",
       "<thead>\n",
       "<tr><th>model_id                                           </th><th style=\"text-align: right;\">   rmse</th><th style=\"text-align: right;\">  mean_residual_deviance</th><th style=\"text-align: right;\">   mse</th><th style=\"text-align: right;\">    mae</th><th style=\"text-align: right;\">      rmsle</th></tr>\n",
       "</thead>\n",
       "<tbody>\n",
       "<tr><td>StackedEnsemble_AllModels_AutoML_20201005_131327   </td><td style=\"text-align: right;\">546.81 </td><td style=\"text-align: right;\">                  299001</td><td style=\"text-align: right;\">299001</td><td style=\"text-align: right;\">274.511</td><td style=\"text-align: right;\">  0.0940663</td></tr>\n",
       "<tr><td>StackedEnsemble_BestOfFamily_AutoML_20201005_131327</td><td style=\"text-align: right;\">562.304</td><td style=\"text-align: right;\">                  316185</td><td style=\"text-align: right;\">316185</td><td style=\"text-align: right;\">280.244</td><td style=\"text-align: right;\">  0.0960789</td></tr>\n",
       "<tr><td>XGBoost_grid__1_AutoML_20201005_131327_model_1     </td><td style=\"text-align: right;\">566.624</td><td style=\"text-align: right;\">                  321063</td><td style=\"text-align: right;\">321063</td><td style=\"text-align: right;\">282.947</td><td style=\"text-align: right;\">  0.0959238</td></tr>\n",
       "<tr><td>XGBoost_1_AutoML_20201005_131327                   </td><td style=\"text-align: right;\">578.533</td><td style=\"text-align: right;\">                  334700</td><td style=\"text-align: right;\">334700</td><td style=\"text-align: right;\">293.591</td><td style=\"text-align: right;\">nan        </td></tr>\n",
       "<tr><td>XGBoost_3_AutoML_20201005_131327                   </td><td style=\"text-align: right;\">578.705</td><td style=\"text-align: right;\">                  334900</td><td style=\"text-align: right;\">334900</td><td style=\"text-align: right;\">310.429</td><td style=\"text-align: right;\">  0.120563 </td></tr>\n",
       "<tr><td>XGBoost_2_AutoML_20201005_131327                   </td><td style=\"text-align: right;\">593.136</td><td style=\"text-align: right;\">                  351810</td><td style=\"text-align: right;\">351810</td><td style=\"text-align: right;\">298.424</td><td style=\"text-align: right;\">  0.0989703</td></tr>\n",
       "<tr><td>GBM_grid__1_AutoML_20201005_131327_model_1         </td><td style=\"text-align: right;\">635.207</td><td style=\"text-align: right;\">                  403487</td><td style=\"text-align: right;\">403487</td><td style=\"text-align: right;\">344.205</td><td style=\"text-align: right;\">nan        </td></tr>\n",
       "<tr><td>DRF_1_AutoML_20201005_131327                       </td><td style=\"text-align: right;\">722.767</td><td style=\"text-align: right;\">                  522392</td><td style=\"text-align: right;\">522392</td><td style=\"text-align: right;\">358.56 </td><td style=\"text-align: right;\">  0.122102 </td></tr>\n",
       "<tr><td>XRT_1_AutoML_20201005_131327                       </td><td style=\"text-align: right;\">768.328</td><td style=\"text-align: right;\">                  590327</td><td style=\"text-align: right;\">590327</td><td style=\"text-align: right;\">389.098</td><td style=\"text-align: right;\">  0.13807  </td></tr>\n",
       "<tr><td>GBM_1_AutoML_20201005_131327                       </td><td style=\"text-align: right;\">935.334</td><td style=\"text-align: right;\">                  874850</td><td style=\"text-align: right;\">874850</td><td style=\"text-align: right;\">578.017</td><td style=\"text-align: right;\">  0.320378 </td></tr>\n",
       "</tbody>\n",
       "</table>"
      ]
     },
     "metadata": {},
     "output_type": "display_data"
    },
    {
     "data": {
      "text/plain": []
     },
     "execution_count": 53,
     "metadata": {},
     "output_type": "execute_result"
    }
   ],
   "source": [
    "leader_board = automl.leaderboard\n",
    "leader_board.head()"
   ]
  },
  {
   "cell_type": "code",
   "execution_count": 54,
   "metadata": {},
   "outputs": [
    {
     "name": "stdout",
     "output_type": "stream",
     "text": [
      "AutoML progress: |████████████████████████████████████████████████████████| 100%\n"
     ]
    }
   ],
   "source": [
    "automl = H2OAutoML(max_models=50, seed=1,max_runtime_secs=1800, sort_metric='RMSE')\n",
    "automl.train(x, y, training_frame=h2train)"
   ]
  },
  {
   "cell_type": "code",
   "execution_count": 55,
   "metadata": {},
   "outputs": [
    {
     "data": {
      "text/html": [
       "<table>\n",
       "<thead>\n",
       "<tr><th>model_id                                           </th><th style=\"text-align: right;\">   rmse</th><th style=\"text-align: right;\">  mean_residual_deviance</th><th style=\"text-align: right;\">   mse</th><th style=\"text-align: right;\">    mae</th><th style=\"text-align: right;\">      rmsle</th></tr>\n",
       "</thead>\n",
       "<tbody>\n",
       "<tr><td>StackedEnsemble_AllModels_AutoML_20201005_133736   </td><td style=\"text-align: right;\">542.346</td><td style=\"text-align: right;\">                  294139</td><td style=\"text-align: right;\">294139</td><td style=\"text-align: right;\">274.5  </td><td style=\"text-align: right;\">  0.0954452</td></tr>\n",
       "<tr><td>StackedEnsemble_BestOfFamily_AutoML_20201005_133736</td><td style=\"text-align: right;\">552.881</td><td style=\"text-align: right;\">                  305677</td><td style=\"text-align: right;\">305677</td><td style=\"text-align: right;\">276.184</td><td style=\"text-align: right;\">  0.0958583</td></tr>\n",
       "<tr><td>XGBoost_grid__1_AutoML_20201005_133736_model_1     </td><td style=\"text-align: right;\">562.98 </td><td style=\"text-align: right;\">                  316946</td><td style=\"text-align: right;\">316946</td><td style=\"text-align: right;\">281.199</td><td style=\"text-align: right;\">  0.0951049</td></tr>\n",
       "<tr><td>XGBoost_3_AutoML_20201005_133736                   </td><td style=\"text-align: right;\">568.504</td><td style=\"text-align: right;\">                  323196</td><td style=\"text-align: right;\">323196</td><td style=\"text-align: right;\">303.591</td><td style=\"text-align: right;\">  0.117183 </td></tr>\n",
       "<tr><td>XGBoost_1_AutoML_20201005_133736                   </td><td style=\"text-align: right;\">579.624</td><td style=\"text-align: right;\">                  335964</td><td style=\"text-align: right;\">335964</td><td style=\"text-align: right;\">293.595</td><td style=\"text-align: right;\">  0.103092 </td></tr>\n",
       "<tr><td>XGBoost_2_AutoML_20201005_133736                   </td><td style=\"text-align: right;\">587.683</td><td style=\"text-align: right;\">                  345371</td><td style=\"text-align: right;\">345371</td><td style=\"text-align: right;\">295.431</td><td style=\"text-align: right;\">nan        </td></tr>\n",
       "<tr><td>GBM_2_AutoML_20201005_133736                       </td><td style=\"text-align: right;\">594.745</td><td style=\"text-align: right;\">                  353721</td><td style=\"text-align: right;\">353721</td><td style=\"text-align: right;\">316.124</td><td style=\"text-align: right;\">nan        </td></tr>\n",
       "<tr><td>XGBoost_grid__1_AutoML_20201005_133736_model_2     </td><td style=\"text-align: right;\">602.517</td><td style=\"text-align: right;\">                  363026</td><td style=\"text-align: right;\">363026</td><td style=\"text-align: right;\">296.035</td><td style=\"text-align: right;\">  0.100667 </td></tr>\n",
       "<tr><td>GBM_grid__1_AutoML_20201005_133736_model_1         </td><td style=\"text-align: right;\">605.02 </td><td style=\"text-align: right;\">                  366050</td><td style=\"text-align: right;\">366050</td><td style=\"text-align: right;\">313.5  </td><td style=\"text-align: right;\">nan        </td></tr>\n",
       "<tr><td>GBM_3_AutoML_20201005_133736                       </td><td style=\"text-align: right;\">611.209</td><td style=\"text-align: right;\">                  373577</td><td style=\"text-align: right;\">373577</td><td style=\"text-align: right;\">345.238</td><td style=\"text-align: right;\">nan        </td></tr>\n",
       "</tbody>\n",
       "</table>"
      ]
     },
     "metadata": {},
     "output_type": "display_data"
    },
    {
     "data": {
      "text/plain": []
     },
     "execution_count": 55,
     "metadata": {},
     "output_type": "execute_result"
    }
   ],
   "source": [
    "leader_board2 = automl.leaderboard\n",
    "leader_board2.head()"
   ]
  },
  {
   "cell_type": "code",
   "execution_count": 56,
   "metadata": {},
   "outputs": [
    {
     "name": "stdout",
     "output_type": "stream",
     "text": [
      "stackedensemble prediction progress: |████████████████████████████████████| 100%\n"
     ]
    },
    {
     "data": {
      "text/html": [
       "<table>\n",
       "<thead>\n",
       "<tr><th style=\"text-align: right;\">  predict</th></tr>\n",
       "</thead>\n",
       "<tbody>\n",
       "<tr><td style=\"text-align: right;\">  750.394</td></tr>\n",
       "<tr><td style=\"text-align: right;\"> 6105.41 </td></tr>\n",
       "<tr><td style=\"text-align: right;\"> 5882.33 </td></tr>\n",
       "<tr><td style=\"text-align: right;\"> 1075.32 </td></tr>\n",
       "<tr><td style=\"text-align: right;\"> 3130.97 </td></tr>\n",
       "<tr><td style=\"text-align: right;\">  538.64 </td></tr>\n",
       "<tr><td style=\"text-align: right;\"> 1417.18 </td></tr>\n",
       "<tr><td style=\"text-align: right;\">  846.757</td></tr>\n",
       "<tr><td style=\"text-align: right;\"> 8893.59 </td></tr>\n",
       "<tr><td style=\"text-align: right;\">  678.95 </td></tr>\n",
       "</tbody>\n",
       "</table>"
      ]
     },
     "metadata": {},
     "output_type": "display_data"
    },
    {
     "data": {
      "text/plain": []
     },
     "execution_count": 56,
     "metadata": {},
     "output_type": "execute_result"
    }
   ],
   "source": [
    "predictions = automl.leader.predict(h2pred)\n",
    "predictions.head()"
   ]
  },
  {
   "cell_type": "code",
   "execution_count": 63,
   "metadata": {},
   "outputs": [],
   "source": [
    "sub = predictions.as_data_frame()"
   ]
  },
  {
   "cell_type": "code",
   "execution_count": 65,
   "metadata": {},
   "outputs": [],
   "source": [
    "columns=['id','price']\n",
    "sub = sub.reset_index(level=0)\n",
    "sub.columns = columns"
   ]
  },
  {
   "cell_type": "code",
   "execution_count": 66,
   "metadata": {},
   "outputs": [],
   "source": [
    "sub.to_csv(\"subm_6.csv\",index=False)"
   ]
  },
  {
   "cell_type": "code",
   "execution_count": 67,
   "metadata": {},
   "outputs": [
    {
     "name": "stdout",
     "output_type": "stream",
     "text": [
      "AutoML progress: |████████████████████████████████████████████████████████| 100%\n"
     ]
    }
   ],
   "source": [
    "automl = H2OAutoML(max_models=50,max_runtime_secs=3600, sort_metric='RMSE')\n",
    "automl.train(x, y, training_frame=h2train)"
   ]
  },
  {
   "cell_type": "code",
   "execution_count": 68,
   "metadata": {},
   "outputs": [
    {
     "data": {
      "text/html": [
       "<table>\n",
       "<thead>\n",
       "<tr><th>model_id                                           </th><th style=\"text-align: right;\">   rmse</th><th style=\"text-align: right;\">  mean_residual_deviance</th><th style=\"text-align: right;\">   mse</th><th style=\"text-align: right;\">    mae</th><th style=\"text-align: right;\">      rmsle</th></tr>\n",
       "</thead>\n",
       "<tbody>\n",
       "<tr><td>StackedEnsemble_AllModels_AutoML_20201005_153521   </td><td style=\"text-align: right;\">541.402</td><td style=\"text-align: right;\">                  293116</td><td style=\"text-align: right;\">293116</td><td style=\"text-align: right;\">274.192</td><td style=\"text-align: right;\">  0.097376 </td></tr>\n",
       "<tr><td>StackedEnsemble_BestOfFamily_AutoML_20201005_153521</td><td style=\"text-align: right;\">544.166</td><td style=\"text-align: right;\">                  296116</td><td style=\"text-align: right;\">296116</td><td style=\"text-align: right;\">276.387</td><td style=\"text-align: right;\">nan        </td></tr>\n",
       "<tr><td>GBM_3_AutoML_20201005_153521                       </td><td style=\"text-align: right;\">553.005</td><td style=\"text-align: right;\">                  305814</td><td style=\"text-align: right;\">305814</td><td style=\"text-align: right;\">284.065</td><td style=\"text-align: right;\">nan        </td></tr>\n",
       "<tr><td>GBM_1_AutoML_20201005_153521                       </td><td style=\"text-align: right;\">555.29 </td><td style=\"text-align: right;\">                  308347</td><td style=\"text-align: right;\">308347</td><td style=\"text-align: right;\">290.09 </td><td style=\"text-align: right;\">  0.106969 </td></tr>\n",
       "<tr><td>GBM_grid__1_AutoML_20201005_153521_model_5         </td><td style=\"text-align: right;\">557.775</td><td style=\"text-align: right;\">                  311113</td><td style=\"text-align: right;\">311113</td><td style=\"text-align: right;\">278.705</td><td style=\"text-align: right;\">  0.0967335</td></tr>\n",
       "<tr><td>GBM_2_AutoML_20201005_153521                       </td><td style=\"text-align: right;\">558.373</td><td style=\"text-align: right;\">                  311780</td><td style=\"text-align: right;\">311780</td><td style=\"text-align: right;\">289.586</td><td style=\"text-align: right;\">nan        </td></tr>\n",
       "<tr><td>GBM_4_AutoML_20201005_153521                       </td><td style=\"text-align: right;\">562.082</td><td style=\"text-align: right;\">                  315936</td><td style=\"text-align: right;\">315936</td><td style=\"text-align: right;\">289.63 </td><td style=\"text-align: right;\">nan        </td></tr>\n",
       "<tr><td>GBM_grid__1_AutoML_20201005_153521_model_11        </td><td style=\"text-align: right;\">564.127</td><td style=\"text-align: right;\">                  318240</td><td style=\"text-align: right;\">318240</td><td style=\"text-align: right;\">280.993</td><td style=\"text-align: right;\">  0.096471 </td></tr>\n",
       "<tr><td>XGBoost_grid__1_AutoML_20201005_153521_model_1     </td><td style=\"text-align: right;\">565.335</td><td style=\"text-align: right;\">                  319603</td><td style=\"text-align: right;\">319603</td><td style=\"text-align: right;\">288.166</td><td style=\"text-align: right;\">  0.0999397</td></tr>\n",
       "<tr><td>GBM_grid__1_AutoML_20201005_153521_model_2         </td><td style=\"text-align: right;\">566.973</td><td style=\"text-align: right;\">                  321458</td><td style=\"text-align: right;\">321458</td><td style=\"text-align: right;\">283.905</td><td style=\"text-align: right;\">nan        </td></tr>\n",
       "</tbody>\n",
       "</table>"
      ]
     },
     "metadata": {},
     "output_type": "display_data"
    },
    {
     "data": {
      "text/plain": []
     },
     "execution_count": 68,
     "metadata": {},
     "output_type": "execute_result"
    }
   ],
   "source": [
    "leader_board3 = automl.leaderboard\n",
    "leader_board3.head()"
   ]
  },
  {
   "cell_type": "code",
   "execution_count": 7,
   "metadata": {},
   "outputs": [
    {
     "name": "stdout",
     "output_type": "stream",
     "text": [
      "AutoML progress: |████████████████████████████████████████████████████████| 100%\n"
     ]
    }
   ],
   "source": [
    "automl = H2OAutoML(max_runtime_secs=1000, sort_metric='RMSE')\n",
    "automl.train(x, y, training_frame=h2train)"
   ]
  },
  {
   "cell_type": "code",
   "execution_count": 8,
   "metadata": {},
   "outputs": [
    {
     "data": {
      "text/html": [
       "<table>\n",
       "<thead>\n",
       "<tr><th>model_id                                           </th><th style=\"text-align: right;\">   rmse</th><th style=\"text-align: right;\">  mean_residual_deviance</th><th style=\"text-align: right;\">   mse</th><th style=\"text-align: right;\">    mae</th><th style=\"text-align: right;\">      rmsle</th></tr>\n",
       "</thead>\n",
       "<tbody>\n",
       "<tr><td>StackedEnsemble_AllModels_AutoML_20201005_185643   </td><td style=\"text-align: right;\">533.132</td><td style=\"text-align: right;\">                  284229</td><td style=\"text-align: right;\">284229</td><td style=\"text-align: right;\">269.081</td><td style=\"text-align: right;\">  0.0953999</td></tr>\n",
       "<tr><td>GBM_3_AutoML_20201005_185643                       </td><td style=\"text-align: right;\">539.697</td><td style=\"text-align: right;\">                  291273</td><td style=\"text-align: right;\">291273</td><td style=\"text-align: right;\">276.045</td><td style=\"text-align: right;\">  0.0996463</td></tr>\n",
       "<tr><td>StackedEnsemble_BestOfFamily_AutoML_20201005_185643</td><td style=\"text-align: right;\">540.264</td><td style=\"text-align: right;\">                  291885</td><td style=\"text-align: right;\">291885</td><td style=\"text-align: right;\">273.347</td><td style=\"text-align: right;\">  0.0977598</td></tr>\n",
       "<tr><td>GBM_2_AutoML_20201005_185643                       </td><td style=\"text-align: right;\">543.333</td><td style=\"text-align: right;\">                  295211</td><td style=\"text-align: right;\">295211</td><td style=\"text-align: right;\">279.838</td><td style=\"text-align: right;\">  0.103419 </td></tr>\n",
       "<tr><td>GBM_4_AutoML_20201005_185643                       </td><td style=\"text-align: right;\">544.718</td><td style=\"text-align: right;\">                  296718</td><td style=\"text-align: right;\">296718</td><td style=\"text-align: right;\">279.588</td><td style=\"text-align: right;\">  0.102665 </td></tr>\n",
       "<tr><td>GBM_1_AutoML_20201005_185643                       </td><td style=\"text-align: right;\">552.806</td><td style=\"text-align: right;\">                  305595</td><td style=\"text-align: right;\">305595</td><td style=\"text-align: right;\">289.88 </td><td style=\"text-align: right;\">  0.107759 </td></tr>\n",
       "<tr><td>GBM_grid__1_AutoML_20201005_185643_model_3         </td><td style=\"text-align: right;\">562.803</td><td style=\"text-align: right;\">                  316747</td><td style=\"text-align: right;\">316747</td><td style=\"text-align: right;\">297.508</td><td style=\"text-align: right;\">nan        </td></tr>\n",
       "<tr><td>XGBoost_grid__1_AutoML_20201005_185643_model_2     </td><td style=\"text-align: right;\">584.91 </td><td style=\"text-align: right;\">                  342120</td><td style=\"text-align: right;\">342120</td><td style=\"text-align: right;\">301.209</td><td style=\"text-align: right;\">nan        </td></tr>\n",
       "<tr><td>XGBoost_2_AutoML_20201005_185643                   </td><td style=\"text-align: right;\">586.535</td><td style=\"text-align: right;\">                  344023</td><td style=\"text-align: right;\">344023</td><td style=\"text-align: right;\">295.152</td><td style=\"text-align: right;\">  0.098874 </td></tr>\n",
       "<tr><td>XGBoost_1_AutoML_20201005_185643                   </td><td style=\"text-align: right;\">589.787</td><td style=\"text-align: right;\">                  347848</td><td style=\"text-align: right;\">347848</td><td style=\"text-align: right;\">303.323</td><td style=\"text-align: right;\">nan        </td></tr>\n",
       "</tbody>\n",
       "</table>"
      ]
     },
     "metadata": {},
     "output_type": "display_data"
    },
    {
     "data": {
      "text/plain": []
     },
     "execution_count": 8,
     "metadata": {},
     "output_type": "execute_result"
    }
   ],
   "source": [
    "leader_board3 = automl.leaderboard\n",
    "leader_board3.head()"
   ]
  },
  {
   "cell_type": "code",
   "execution_count": 9,
   "metadata": {},
   "outputs": [
    {
     "name": "stdout",
     "output_type": "stream",
     "text": [
      "stackedensemble prediction progress: |████████████████████████████████████| 100%\n"
     ]
    }
   ],
   "source": [
    "predictions = automl.leader.predict(h2pred)\n",
    "sub = predictions.as_data_frame()\n",
    "columns=['id','price']\n",
    "sub = sub.reset_index(level=0)\n",
    "sub.columns = columns\n",
    "sub.to_csv(\"subm_8.csv\",index=False)"
   ]
  },
  {
   "cell_type": "code",
   "execution_count": 6,
   "metadata": {},
   "outputs": [
    {
     "name": "stdout",
     "output_type": "stream",
     "text": [
      "AutoML progress: |████████████████████████████████████████████████████████| 100%\n"
     ]
    },
    {
     "data": {
      "text/html": [
       "<table>\n",
       "<thead>\n",
       "<tr><th>model_id                                           </th><th style=\"text-align: right;\">   rmse</th><th style=\"text-align: right;\">  mean_residual_deviance</th><th style=\"text-align: right;\">   mse</th><th style=\"text-align: right;\">    mae</th><th style=\"text-align: right;\">      rmsle</th></tr>\n",
       "</thead>\n",
       "<tbody>\n",
       "<tr><td>StackedEnsemble_AllModels_AutoML_20201006_004457   </td><td style=\"text-align: right;\">531.343</td><td style=\"text-align: right;\">                  282325</td><td style=\"text-align: right;\">282325</td><td style=\"text-align: right;\">269.631</td><td style=\"text-align: right;\">  0.0961785</td></tr>\n",
       "<tr><td>StackedEnsemble_BestOfFamily_AutoML_20201006_004457</td><td style=\"text-align: right;\">535.75 </td><td style=\"text-align: right;\">                  287028</td><td style=\"text-align: right;\">287028</td><td style=\"text-align: right;\">270.913</td><td style=\"text-align: right;\">  0.0962415</td></tr>\n",
       "<tr><td>GBM_2_AutoML_20201006_004457                       </td><td style=\"text-align: right;\">539.058</td><td style=\"text-align: right;\">                  290584</td><td style=\"text-align: right;\">290584</td><td style=\"text-align: right;\">277.665</td><td style=\"text-align: right;\">  0.102363 </td></tr>\n",
       "<tr><td>GBM_3_AutoML_20201006_004457                       </td><td style=\"text-align: right;\">539.092</td><td style=\"text-align: right;\">                  290620</td><td style=\"text-align: right;\">290620</td><td style=\"text-align: right;\">275.024</td><td style=\"text-align: right;\">  0.097921 </td></tr>\n",
       "<tr><td>GBM_4_AutoML_20201006_004457                       </td><td style=\"text-align: right;\">539.143</td><td style=\"text-align: right;\">                  290675</td><td style=\"text-align: right;\">290675</td><td style=\"text-align: right;\">271.332</td><td style=\"text-align: right;\">nan        </td></tr>\n",
       "<tr><td>GBM_1_AutoML_20201006_004457                       </td><td style=\"text-align: right;\">542.186</td><td style=\"text-align: right;\">                  293966</td><td style=\"text-align: right;\">293966</td><td style=\"text-align: right;\">281.676</td><td style=\"text-align: right;\">  0.103869 </td></tr>\n",
       "<tr><td>GBM_grid__1_AutoML_20201006_004457_model_7         </td><td style=\"text-align: right;\">545.28 </td><td style=\"text-align: right;\">                  297330</td><td style=\"text-align: right;\">297330</td><td style=\"text-align: right;\">284.453</td><td style=\"text-align: right;\">  0.104547 </td></tr>\n",
       "<tr><td>GBM_grid__1_AutoML_20201006_004457_model_9         </td><td style=\"text-align: right;\">550.75 </td><td style=\"text-align: right;\">                  303325</td><td style=\"text-align: right;\">303325</td><td style=\"text-align: right;\">274.569</td><td style=\"text-align: right;\">  0.0909164</td></tr>\n",
       "<tr><td>GBM_grid__1_AutoML_20201006_004457_model_4         </td><td style=\"text-align: right;\">551.368</td><td style=\"text-align: right;\">                  304006</td><td style=\"text-align: right;\">304006</td><td style=\"text-align: right;\">274.062</td><td style=\"text-align: right;\">  0.0914225</td></tr>\n",
       "<tr><td>GBM_grid__1_AutoML_20201006_004457_model_10        </td><td style=\"text-align: right;\">552.561</td><td style=\"text-align: right;\">                  305324</td><td style=\"text-align: right;\">305324</td><td style=\"text-align: right;\">281.113</td><td style=\"text-align: right;\">  0.102103 </td></tr>\n",
       "</tbody>\n",
       "</table>"
      ]
     },
     "metadata": {},
     "output_type": "display_data"
    },
    {
     "data": {
      "text/plain": []
     },
     "execution_count": 6,
     "metadata": {},
     "output_type": "execute_result"
    }
   ],
   "source": [
    "automl = H2OAutoML(max_runtime_secs=1000, sort_metric='RMSE')\n",
    "automl.train(x, y, training_frame=h2train)\n",
    "leader_board3 = automl.leaderboard\n",
    "leader_board3.head()"
   ]
  },
  {
   "cell_type": "code",
   "execution_count": 7,
   "metadata": {},
   "outputs": [
    {
     "name": "stdout",
     "output_type": "stream",
     "text": [
      "stackedensemble prediction progress: |████████████████████████████████████| 100%\n"
     ]
    }
   ],
   "source": [
    "predictions = automl.leader.predict(h2pred)\n",
    "sub = predictions.as_data_frame()\n",
    "columns=['id','price']\n",
    "sub = sub.reset_index(level=0)\n",
    "sub.columns = columns\n",
    "sub.to_csv(\"subm_9.csv\",index=False)"
   ]
  },
  {
   "cell_type": "code",
   "execution_count": 6,
   "metadata": {},
   "outputs": [
    {
     "name": "stdout",
     "output_type": "stream",
     "text": [
      "AutoML progress: |████████████████████████████████████████████████████████| 100%\n"
     ]
    },
    {
     "data": {
      "text/html": [
       "<table>\n",
       "<thead>\n",
       "<tr><th>model_id                                           </th><th style=\"text-align: right;\">   rmse</th><th style=\"text-align: right;\">  mean_residual_deviance</th><th style=\"text-align: right;\">   mse</th><th style=\"text-align: right;\">    mae</th><th style=\"text-align: right;\">      rmsle</th></tr>\n",
       "</thead>\n",
       "<tbody>\n",
       "<tr><td>StackedEnsemble_AllModels_AutoML_20201006_084246   </td><td style=\"text-align: right;\">529.277</td><td style=\"text-align: right;\">                  280134</td><td style=\"text-align: right;\">280134</td><td style=\"text-align: right;\">267.294</td><td style=\"text-align: right;\">nan        </td></tr>\n",
       "<tr><td>StackedEnsemble_BestOfFamily_AutoML_20201006_084246</td><td style=\"text-align: right;\">535.271</td><td style=\"text-align: right;\">                  286515</td><td style=\"text-align: right;\">286515</td><td style=\"text-align: right;\">270.885</td><td style=\"text-align: right;\">nan        </td></tr>\n",
       "<tr><td>GBM_3_AutoML_20201006_084246                       </td><td style=\"text-align: right;\">536.098</td><td style=\"text-align: right;\">                  287401</td><td style=\"text-align: right;\">287401</td><td style=\"text-align: right;\">274.59 </td><td style=\"text-align: right;\">nan        </td></tr>\n",
       "<tr><td>GBM_4_AutoML_20201006_084246                       </td><td style=\"text-align: right;\">537.858</td><td style=\"text-align: right;\">                  289291</td><td style=\"text-align: right;\">289291</td><td style=\"text-align: right;\">270.091</td><td style=\"text-align: right;\">nan        </td></tr>\n",
       "<tr><td>GBM_2_AutoML_20201006_084246                       </td><td style=\"text-align: right;\">538.716</td><td style=\"text-align: right;\">                  290215</td><td style=\"text-align: right;\">290215</td><td style=\"text-align: right;\">277.15 </td><td style=\"text-align: right;\">nan        </td></tr>\n",
       "<tr><td>GBM_1_AutoML_20201006_084246                       </td><td style=\"text-align: right;\">542.538</td><td style=\"text-align: right;\">                  294348</td><td style=\"text-align: right;\">294348</td><td style=\"text-align: right;\">281.991</td><td style=\"text-align: right;\">  0.103751 </td></tr>\n",
       "<tr><td>GBM_grid__1_AutoML_20201006_084246_model_5         </td><td style=\"text-align: right;\">543.682</td><td style=\"text-align: right;\">                  295590</td><td style=\"text-align: right;\">295590</td><td style=\"text-align: right;\">277.136</td><td style=\"text-align: right;\">  0.101213 </td></tr>\n",
       "<tr><td>GBM_grid__1_AutoML_20201006_084246_model_6         </td><td style=\"text-align: right;\">545.023</td><td style=\"text-align: right;\">                  297050</td><td style=\"text-align: right;\">297050</td><td style=\"text-align: right;\">275.492</td><td style=\"text-align: right;\">  0.0955505</td></tr>\n",
       "<tr><td>GBM_grid__1_AutoML_20201006_084246_model_3         </td><td style=\"text-align: right;\">547.31 </td><td style=\"text-align: right;\">                  299548</td><td style=\"text-align: right;\">299548</td><td style=\"text-align: right;\">273.186</td><td style=\"text-align: right;\">  0.0961178</td></tr>\n",
       "<tr><td>GBM_grid__1_AutoML_20201006_084246_model_4         </td><td style=\"text-align: right;\">549.073</td><td style=\"text-align: right;\">                  301481</td><td style=\"text-align: right;\">301481</td><td style=\"text-align: right;\">271.664</td><td style=\"text-align: right;\">  0.0895764</td></tr>\n",
       "</tbody>\n",
       "</table>"
      ]
     },
     "metadata": {},
     "output_type": "display_data"
    },
    {
     "data": {
      "text/plain": []
     },
     "execution_count": 6,
     "metadata": {},
     "output_type": "execute_result"
    }
   ],
   "source": [
    "automl = H2OAutoML(max_runtime_secs=1200, sort_metric='RMSE')\n",
    "automl.train(x, y, training_frame=h2train)\n",
    "leader_board3 = automl.leaderboard\n",
    "leader_board3.head()"
   ]
  },
  {
   "cell_type": "code",
   "execution_count": 7,
   "metadata": {},
   "outputs": [
    {
     "name": "stdout",
     "output_type": "stream",
     "text": [
      "stackedensemble prediction progress: |████████████████████████████████████| 100%\n"
     ]
    }
   ],
   "source": [
    "predictions = automl.leader.predict(h2pred)\n",
    "sub = predictions.as_data_frame()\n",
    "columns=['id','price']\n",
    "sub = sub.reset_index(level=0)\n",
    "sub.columns = columns\n",
    "sub.to_csv(\"subm_10.csv\",index=False)"
   ]
  },
  {
   "cell_type": "code",
   "execution_count": null,
   "metadata": {},
   "outputs": [],
   "source": []
  }
 ],
 "metadata": {
  "kernelspec": {
   "display_name": "Python 3",
   "language": "python",
   "name": "python3"
  },
  "language_info": {
   "codemirror_mode": {
    "name": "ipython",
    "version": 3
   },
   "file_extension": ".py",
   "mimetype": "text/x-python",
   "name": "python",
   "nbconvert_exporter": "python",
   "pygments_lexer": "ipython3",
   "version": "3.7.8"
  }
 },
 "nbformat": 4,
 "nbformat_minor": 4
}
