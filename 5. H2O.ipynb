{
 "cells": [
  {
   "cell_type": "code",
   "execution_count": 1,
   "metadata": {},
   "outputs": [],
   "source": [
    "import pandas as pd\n",
    "import h2o\n",
    "from h2o.automl import H2OAutoML"
   ]
  },
  {
   "cell_type": "code",
   "execution_count": 2,
   "metadata": {},
   "outputs": [],
   "source": [
    "train = pd.read_csv(\"input/train.csv\", index_col=0)\n",
    "pred = pd.read_csv(\"input/predict.csv\", index_col=0)"
   ]
  },
  {
   "cell_type": "code",
   "execution_count": null,
   "metadata": {},
   "outputs": [
    {
     "name": "stdout",
     "output_type": "stream",
     "text": [
      "Checking whether there is an H2O instance running at http://localhost:54321 ..... not found.\n",
      "Attempting to start a local H2O server...\n",
      "  Java Version: java version \"11.0.8\" 2020-07-14 LTS; Java(TM) SE Runtime Environment 18.9 (build 11.0.8+10-LTS); Java HotSpot(TM) 64-Bit Server VM 18.9 (build 11.0.8+10-LTS, mixed mode)\n",
      "  Starting server from /usr/local/lib/python3.7/site-packages/h2o/backend/bin/h2o.jar\n",
      "  Ice root: /var/folders/sk/1lhjy0853tx4hgjhly1z34pc0000gn/T/tmpryswjyxm\n",
      "  JVM stdout: /var/folders/sk/1lhjy0853tx4hgjhly1z34pc0000gn/T/tmpryswjyxm/h2o_Marta_started_from_python.out\n",
      "  JVM stderr: /var/folders/sk/1lhjy0853tx4hgjhly1z34pc0000gn/T/tmpryswjyxm/h2o_Marta_started_from_python.err\n"
     ]
    }
   ],
   "source": [
    "h2o.init()"
   ]
  },
  {
   "cell_type": "code",
   "execution_count": null,
   "metadata": {},
   "outputs": [],
   "source": [
    "h2train = h2o.H2OFrame(train)\n",
    "h2pred = h2o.H2OFrame(pred)"
   ]
  },
  {
   "cell_type": "code",
   "execution_count": null,
   "metadata": {},
   "outputs": [],
   "source": [
    "x = list(train.drop(columns='price').columns)\n",
    "y = 'price'"
   ]
  },
  {
   "cell_type": "code",
   "execution_count": 52,
   "metadata": {},
   "outputs": [
    {
     "name": "stdout",
     "output_type": "stream",
     "text": [
      "AutoML progress: |████████████████████████████████████████████████████████| 100%\n"
     ]
    }
   ],
   "source": [
    "automl = H2OAutoML(max_models=50, seed=1,max_runtime_secs=1200, sort_metric='RMSE')\n",
    "automl.train(x, y, training_frame=h2train)"
   ]
  },
  {
   "cell_type": "code",
   "execution_count": 53,
   "metadata": {},
   "outputs": [
    {
     "data": {
      "text/html": [
       "<table>\n",
       "<thead>\n",
       "<tr><th>model_id                                           </th><th style=\"text-align: right;\">   rmse</th><th style=\"text-align: right;\">  mean_residual_deviance</th><th style=\"text-align: right;\">   mse</th><th style=\"text-align: right;\">    mae</th><th style=\"text-align: right;\">      rmsle</th></tr>\n",
       "</thead>\n",
       "<tbody>\n",
       "<tr><td>StackedEnsemble_AllModels_AutoML_20201005_131327   </td><td style=\"text-align: right;\">546.81 </td><td style=\"text-align: right;\">                  299001</td><td style=\"text-align: right;\">299001</td><td style=\"text-align: right;\">274.511</td><td style=\"text-align: right;\">  0.0940663</td></tr>\n",
       "<tr><td>StackedEnsemble_BestOfFamily_AutoML_20201005_131327</td><td style=\"text-align: right;\">562.304</td><td style=\"text-align: right;\">                  316185</td><td style=\"text-align: right;\">316185</td><td style=\"text-align: right;\">280.244</td><td style=\"text-align: right;\">  0.0960789</td></tr>\n",
       "<tr><td>XGBoost_grid__1_AutoML_20201005_131327_model_1     </td><td style=\"text-align: right;\">566.624</td><td style=\"text-align: right;\">                  321063</td><td style=\"text-align: right;\">321063</td><td style=\"text-align: right;\">282.947</td><td style=\"text-align: right;\">  0.0959238</td></tr>\n",
       "<tr><td>XGBoost_1_AutoML_20201005_131327                   </td><td style=\"text-align: right;\">578.533</td><td style=\"text-align: right;\">                  334700</td><td style=\"text-align: right;\">334700</td><td style=\"text-align: right;\">293.591</td><td style=\"text-align: right;\">nan        </td></tr>\n",
       "<tr><td>XGBoost_3_AutoML_20201005_131327                   </td><td style=\"text-align: right;\">578.705</td><td style=\"text-align: right;\">                  334900</td><td style=\"text-align: right;\">334900</td><td style=\"text-align: right;\">310.429</td><td style=\"text-align: right;\">  0.120563 </td></tr>\n",
       "<tr><td>XGBoost_2_AutoML_20201005_131327                   </td><td style=\"text-align: right;\">593.136</td><td style=\"text-align: right;\">                  351810</td><td style=\"text-align: right;\">351810</td><td style=\"text-align: right;\">298.424</td><td style=\"text-align: right;\">  0.0989703</td></tr>\n",
       "<tr><td>GBM_grid__1_AutoML_20201005_131327_model_1         </td><td style=\"text-align: right;\">635.207</td><td style=\"text-align: right;\">                  403487</td><td style=\"text-align: right;\">403487</td><td style=\"text-align: right;\">344.205</td><td style=\"text-align: right;\">nan        </td></tr>\n",
       "<tr><td>DRF_1_AutoML_20201005_131327                       </td><td style=\"text-align: right;\">722.767</td><td style=\"text-align: right;\">                  522392</td><td style=\"text-align: right;\">522392</td><td style=\"text-align: right;\">358.56 </td><td style=\"text-align: right;\">  0.122102 </td></tr>\n",
       "<tr><td>XRT_1_AutoML_20201005_131327                       </td><td style=\"text-align: right;\">768.328</td><td style=\"text-align: right;\">                  590327</td><td style=\"text-align: right;\">590327</td><td style=\"text-align: right;\">389.098</td><td style=\"text-align: right;\">  0.13807  </td></tr>\n",
       "<tr><td>GBM_1_AutoML_20201005_131327                       </td><td style=\"text-align: right;\">935.334</td><td style=\"text-align: right;\">                  874850</td><td style=\"text-align: right;\">874850</td><td style=\"text-align: right;\">578.017</td><td style=\"text-align: right;\">  0.320378 </td></tr>\n",
       "</tbody>\n",
       "</table>"
      ]
     },
     "metadata": {},
     "output_type": "display_data"
    },
    {
     "data": {
      "text/plain": []
     },
     "execution_count": 53,
     "metadata": {},
     "output_type": "execute_result"
    }
   ],
   "source": [
    "leader_board = automl.leaderboard\n",
    "leader_board.head()"
   ]
  },
  {
   "cell_type": "code",
   "execution_count": 54,
   "metadata": {},
   "outputs": [
    {
     "name": "stdout",
     "output_type": "stream",
     "text": [
      "AutoML progress: |████████████████████████████████████████████████████████| 100%\n"
     ]
    }
   ],
   "source": [
    "automl = H2OAutoML(max_models=50, seed=1,max_runtime_secs=1800, sort_metric='RMSE')\n",
    "automl.train(x, y, training_frame=h2train)"
   ]
  },
  {
   "cell_type": "code",
   "execution_count": 55,
   "metadata": {},
   "outputs": [
    {
     "data": {
      "text/html": [
       "<table>\n",
       "<thead>\n",
       "<tr><th>model_id                                           </th><th style=\"text-align: right;\">   rmse</th><th style=\"text-align: right;\">  mean_residual_deviance</th><th style=\"text-align: right;\">   mse</th><th style=\"text-align: right;\">    mae</th><th style=\"text-align: right;\">      rmsle</th></tr>\n",
       "</thead>\n",
       "<tbody>\n",
       "<tr><td>StackedEnsemble_AllModels_AutoML_20201005_133736   </td><td style=\"text-align: right;\">542.346</td><td style=\"text-align: right;\">                  294139</td><td style=\"text-align: right;\">294139</td><td style=\"text-align: right;\">274.5  </td><td style=\"text-align: right;\">  0.0954452</td></tr>\n",
       "<tr><td>StackedEnsemble_BestOfFamily_AutoML_20201005_133736</td><td style=\"text-align: right;\">552.881</td><td style=\"text-align: right;\">                  305677</td><td style=\"text-align: right;\">305677</td><td style=\"text-align: right;\">276.184</td><td style=\"text-align: right;\">  0.0958583</td></tr>\n",
       "<tr><td>XGBoost_grid__1_AutoML_20201005_133736_model_1     </td><td style=\"text-align: right;\">562.98 </td><td style=\"text-align: right;\">                  316946</td><td style=\"text-align: right;\">316946</td><td style=\"text-align: right;\">281.199</td><td style=\"text-align: right;\">  0.0951049</td></tr>\n",
       "<tr><td>XGBoost_3_AutoML_20201005_133736                   </td><td style=\"text-align: right;\">568.504</td><td style=\"text-align: right;\">                  323196</td><td style=\"text-align: right;\">323196</td><td style=\"text-align: right;\">303.591</td><td style=\"text-align: right;\">  0.117183 </td></tr>\n",
       "<tr><td>XGBoost_1_AutoML_20201005_133736                   </td><td style=\"text-align: right;\">579.624</td><td style=\"text-align: right;\">                  335964</td><td style=\"text-align: right;\">335964</td><td style=\"text-align: right;\">293.595</td><td style=\"text-align: right;\">  0.103092 </td></tr>\n",
       "<tr><td>XGBoost_2_AutoML_20201005_133736                   </td><td style=\"text-align: right;\">587.683</td><td style=\"text-align: right;\">                  345371</td><td style=\"text-align: right;\">345371</td><td style=\"text-align: right;\">295.431</td><td style=\"text-align: right;\">nan        </td></tr>\n",
       "<tr><td>GBM_2_AutoML_20201005_133736                       </td><td style=\"text-align: right;\">594.745</td><td style=\"text-align: right;\">                  353721</td><td style=\"text-align: right;\">353721</td><td style=\"text-align: right;\">316.124</td><td style=\"text-align: right;\">nan        </td></tr>\n",
       "<tr><td>XGBoost_grid__1_AutoML_20201005_133736_model_2     </td><td style=\"text-align: right;\">602.517</td><td style=\"text-align: right;\">                  363026</td><td style=\"text-align: right;\">363026</td><td style=\"text-align: right;\">296.035</td><td style=\"text-align: right;\">  0.100667 </td></tr>\n",
       "<tr><td>GBM_grid__1_AutoML_20201005_133736_model_1         </td><td style=\"text-align: right;\">605.02 </td><td style=\"text-align: right;\">                  366050</td><td style=\"text-align: right;\">366050</td><td style=\"text-align: right;\">313.5  </td><td style=\"text-align: right;\">nan        </td></tr>\n",
       "<tr><td>GBM_3_AutoML_20201005_133736                       </td><td style=\"text-align: right;\">611.209</td><td style=\"text-align: right;\">                  373577</td><td style=\"text-align: right;\">373577</td><td style=\"text-align: right;\">345.238</td><td style=\"text-align: right;\">nan        </td></tr>\n",
       "</tbody>\n",
       "</table>"
      ]
     },
     "metadata": {},
     "output_type": "display_data"
    },
    {
     "data": {
      "text/plain": []
     },
     "execution_count": 55,
     "metadata": {},
     "output_type": "execute_result"
    }
   ],
   "source": [
    "leader_board2 = automl.leaderboard\n",
    "leader_board2.head()"
   ]
  },
  {
   "cell_type": "code",
   "execution_count": 56,
   "metadata": {},
   "outputs": [
    {
     "name": "stdout",
     "output_type": "stream",
     "text": [
      "stackedensemble prediction progress: |████████████████████████████████████| 100%\n"
     ]
    },
    {
     "data": {
      "text/html": [
       "<table>\n",
       "<thead>\n",
       "<tr><th style=\"text-align: right;\">  predict</th></tr>\n",
       "</thead>\n",
       "<tbody>\n",
       "<tr><td style=\"text-align: right;\">  750.394</td></tr>\n",
       "<tr><td style=\"text-align: right;\"> 6105.41 </td></tr>\n",
       "<tr><td style=\"text-align: right;\"> 5882.33 </td></tr>\n",
       "<tr><td style=\"text-align: right;\"> 1075.32 </td></tr>\n",
       "<tr><td style=\"text-align: right;\"> 3130.97 </td></tr>\n",
       "<tr><td style=\"text-align: right;\">  538.64 </td></tr>\n",
       "<tr><td style=\"text-align: right;\"> 1417.18 </td></tr>\n",
       "<tr><td style=\"text-align: right;\">  846.757</td></tr>\n",
       "<tr><td style=\"text-align: right;\"> 8893.59 </td></tr>\n",
       "<tr><td style=\"text-align: right;\">  678.95 </td></tr>\n",
       "</tbody>\n",
       "</table>"
      ]
     },
     "metadata": {},
     "output_type": "display_data"
    },
    {
     "data": {
      "text/plain": []
     },
     "execution_count": 56,
     "metadata": {},
     "output_type": "execute_result"
    }
   ],
   "source": [
    "predictions = automl.leader.predict(h2pred)\n",
    "predictions.head()"
   ]
  },
  {
   "cell_type": "code",
   "execution_count": 63,
   "metadata": {},
   "outputs": [],
   "source": [
    "sub = predictions.as_data_frame()"
   ]
  },
  {
   "cell_type": "code",
   "execution_count": 65,
   "metadata": {},
   "outputs": [],
   "source": [
    "columns=['id','price']\n",
    "sub = sub.reset_index(level=0)\n",
    "sub.columns = columns"
   ]
  },
  {
   "cell_type": "code",
   "execution_count": 66,
   "metadata": {},
   "outputs": [],
   "source": [
    "sub.to_csv(\"subm_6.csv\",index=False)"
   ]
  },
  {
   "cell_type": "code",
   "execution_count": 67,
   "metadata": {},
   "outputs": [
    {
     "name": "stdout",
     "output_type": "stream",
     "text": [
      "AutoML progress: |████████████████████████████████████████████████████████| 100%\n"
     ]
    }
   ],
   "source": [
    "automl = H2OAutoML(max_models=50,max_runtime_secs=3600, sort_metric='RMSE')\n",
    "automl.train(x, y, training_frame=h2train)"
   ]
  },
  {
   "cell_type": "code",
   "execution_count": 68,
   "metadata": {},
   "outputs": [
    {
     "data": {
      "text/html": [
       "<table>\n",
       "<thead>\n",
       "<tr><th>model_id                                           </th><th style=\"text-align: right;\">   rmse</th><th style=\"text-align: right;\">  mean_residual_deviance</th><th style=\"text-align: right;\">   mse</th><th style=\"text-align: right;\">    mae</th><th style=\"text-align: right;\">      rmsle</th></tr>\n",
       "</thead>\n",
       "<tbody>\n",
       "<tr><td>StackedEnsemble_AllModels_AutoML_20201005_153521   </td><td style=\"text-align: right;\">541.402</td><td style=\"text-align: right;\">                  293116</td><td style=\"text-align: right;\">293116</td><td style=\"text-align: right;\">274.192</td><td style=\"text-align: right;\">  0.097376 </td></tr>\n",
       "<tr><td>StackedEnsemble_BestOfFamily_AutoML_20201005_153521</td><td style=\"text-align: right;\">544.166</td><td style=\"text-align: right;\">                  296116</td><td style=\"text-align: right;\">296116</td><td style=\"text-align: right;\">276.387</td><td style=\"text-align: right;\">nan        </td></tr>\n",
       "<tr><td>GBM_3_AutoML_20201005_153521                       </td><td style=\"text-align: right;\">553.005</td><td style=\"text-align: right;\">                  305814</td><td style=\"text-align: right;\">305814</td><td style=\"text-align: right;\">284.065</td><td style=\"text-align: right;\">nan        </td></tr>\n",
       "<tr><td>GBM_1_AutoML_20201005_153521                       </td><td style=\"text-align: right;\">555.29 </td><td style=\"text-align: right;\">                  308347</td><td style=\"text-align: right;\">308347</td><td style=\"text-align: right;\">290.09 </td><td style=\"text-align: right;\">  0.106969 </td></tr>\n",
       "<tr><td>GBM_grid__1_AutoML_20201005_153521_model_5         </td><td style=\"text-align: right;\">557.775</td><td style=\"text-align: right;\">                  311113</td><td style=\"text-align: right;\">311113</td><td style=\"text-align: right;\">278.705</td><td style=\"text-align: right;\">  0.0967335</td></tr>\n",
       "<tr><td>GBM_2_AutoML_20201005_153521                       </td><td style=\"text-align: right;\">558.373</td><td style=\"text-align: right;\">                  311780</td><td style=\"text-align: right;\">311780</td><td style=\"text-align: right;\">289.586</td><td style=\"text-align: right;\">nan        </td></tr>\n",
       "<tr><td>GBM_4_AutoML_20201005_153521                       </td><td style=\"text-align: right;\">562.082</td><td style=\"text-align: right;\">                  315936</td><td style=\"text-align: right;\">315936</td><td style=\"text-align: right;\">289.63 </td><td style=\"text-align: right;\">nan        </td></tr>\n",
       "<tr><td>GBM_grid__1_AutoML_20201005_153521_model_11        </td><td style=\"text-align: right;\">564.127</td><td style=\"text-align: right;\">                  318240</td><td style=\"text-align: right;\">318240</td><td style=\"text-align: right;\">280.993</td><td style=\"text-align: right;\">  0.096471 </td></tr>\n",
       "<tr><td>XGBoost_grid__1_AutoML_20201005_153521_model_1     </td><td style=\"text-align: right;\">565.335</td><td style=\"text-align: right;\">                  319603</td><td style=\"text-align: right;\">319603</td><td style=\"text-align: right;\">288.166</td><td style=\"text-align: right;\">  0.0999397</td></tr>\n",
       "<tr><td>GBM_grid__1_AutoML_20201005_153521_model_2         </td><td style=\"text-align: right;\">566.973</td><td style=\"text-align: right;\">                  321458</td><td style=\"text-align: right;\">321458</td><td style=\"text-align: right;\">283.905</td><td style=\"text-align: right;\">nan        </td></tr>\n",
       "</tbody>\n",
       "</table>"
      ]
     },
     "metadata": {},
     "output_type": "display_data"
    },
    {
     "data": {
      "text/plain": []
     },
     "execution_count": 68,
     "metadata": {},
     "output_type": "execute_result"
    }
   ],
   "source": [
    "leader_board3 = automl.leaderboard\n",
    "leader_board3.head()"
   ]
  },
  {
   "cell_type": "code",
   "execution_count": 7,
   "metadata": {},
   "outputs": [
    {
     "name": "stdout",
     "output_type": "stream",
     "text": [
      "AutoML progress: |████████████████████████████████████████████████████████| 100%\n"
     ]
    }
   ],
   "source": [
    "automl = H2OAutoML(max_runtime_secs=1000, sort_metric='RMSE')\n",
    "automl.train(x, y, training_frame=h2train)"
   ]
  },
  {
   "cell_type": "code",
   "execution_count": 8,
   "metadata": {},
   "outputs": [
    {
     "data": {
      "text/html": [
       "<table>\n",
       "<thead>\n",
       "<tr><th>model_id                                           </th><th style=\"text-align: right;\">   rmse</th><th style=\"text-align: right;\">  mean_residual_deviance</th><th style=\"text-align: right;\">   mse</th><th style=\"text-align: right;\">    mae</th><th style=\"text-align: right;\">      rmsle</th></tr>\n",
       "</thead>\n",
       "<tbody>\n",
       "<tr><td>StackedEnsemble_AllModels_AutoML_20201005_185643   </td><td style=\"text-align: right;\">533.132</td><td style=\"text-align: right;\">                  284229</td><td style=\"text-align: right;\">284229</td><td style=\"text-align: right;\">269.081</td><td style=\"text-align: right;\">  0.0953999</td></tr>\n",
       "<tr><td>GBM_3_AutoML_20201005_185643                       </td><td style=\"text-align: right;\">539.697</td><td style=\"text-align: right;\">                  291273</td><td style=\"text-align: right;\">291273</td><td style=\"text-align: right;\">276.045</td><td style=\"text-align: right;\">  0.0996463</td></tr>\n",
       "<tr><td>StackedEnsemble_BestOfFamily_AutoML_20201005_185643</td><td style=\"text-align: right;\">540.264</td><td style=\"text-align: right;\">                  291885</td><td style=\"text-align: right;\">291885</td><td style=\"text-align: right;\">273.347</td><td style=\"text-align: right;\">  0.0977598</td></tr>\n",
       "<tr><td>GBM_2_AutoML_20201005_185643                       </td><td style=\"text-align: right;\">543.333</td><td style=\"text-align: right;\">                  295211</td><td style=\"text-align: right;\">295211</td><td style=\"text-align: right;\">279.838</td><td style=\"text-align: right;\">  0.103419 </td></tr>\n",
       "<tr><td>GBM_4_AutoML_20201005_185643                       </td><td style=\"text-align: right;\">544.718</td><td style=\"text-align: right;\">                  296718</td><td style=\"text-align: right;\">296718</td><td style=\"text-align: right;\">279.588</td><td style=\"text-align: right;\">  0.102665 </td></tr>\n",
       "<tr><td>GBM_1_AutoML_20201005_185643                       </td><td style=\"text-align: right;\">552.806</td><td style=\"text-align: right;\">                  305595</td><td style=\"text-align: right;\">305595</td><td style=\"text-align: right;\">289.88 </td><td style=\"text-align: right;\">  0.107759 </td></tr>\n",
       "<tr><td>GBM_grid__1_AutoML_20201005_185643_model_3         </td><td style=\"text-align: right;\">562.803</td><td style=\"text-align: right;\">                  316747</td><td style=\"text-align: right;\">316747</td><td style=\"text-align: right;\">297.508</td><td style=\"text-align: right;\">nan        </td></tr>\n",
       "<tr><td>XGBoost_grid__1_AutoML_20201005_185643_model_2     </td><td style=\"text-align: right;\">584.91 </td><td style=\"text-align: right;\">                  342120</td><td style=\"text-align: right;\">342120</td><td style=\"text-align: right;\">301.209</td><td style=\"text-align: right;\">nan        </td></tr>\n",
       "<tr><td>XGBoost_2_AutoML_20201005_185643                   </td><td style=\"text-align: right;\">586.535</td><td style=\"text-align: right;\">                  344023</td><td style=\"text-align: right;\">344023</td><td style=\"text-align: right;\">295.152</td><td style=\"text-align: right;\">  0.098874 </td></tr>\n",
       "<tr><td>XGBoost_1_AutoML_20201005_185643                   </td><td style=\"text-align: right;\">589.787</td><td style=\"text-align: right;\">                  347848</td><td style=\"text-align: right;\">347848</td><td style=\"text-align: right;\">303.323</td><td style=\"text-align: right;\">nan        </td></tr>\n",
       "</tbody>\n",
       "</table>"
      ]
     },
     "metadata": {},
     "output_type": "display_data"
    },
    {
     "data": {
      "text/plain": []
     },
     "execution_count": 8,
     "metadata": {},
     "output_type": "execute_result"
    }
   ],
   "source": [
    "leader_board3 = automl.leaderboard\n",
    "leader_board3.head()"
   ]
  },
  {
   "cell_type": "code",
   "execution_count": 9,
   "metadata": {},
   "outputs": [
    {
     "name": "stdout",
     "output_type": "stream",
     "text": [
      "stackedensemble prediction progress: |████████████████████████████████████| 100%\n"
     ]
    }
   ],
   "source": [
    "predictions = automl.leader.predict(h2pred)\n",
    "sub = predictions.as_data_frame()\n",
    "columns=['id','price']\n",
    "sub = sub.reset_index(level=0)\n",
    "sub.columns = columns\n",
    "sub.to_csv(\"subm_8.csv\",index=False)"
   ]
  },
  {
   "cell_type": "code",
   "execution_count": 4,
   "metadata": {},
   "outputs": [
    {
     "ename": "H2OConnectionError",
     "evalue": "Not connected to a cluster. Did you run `h2o.connect()`?",
     "output_type": "error",
     "traceback": [
      "\u001b[0;31m---------------------------------------------------------------------------\u001b[0m",
      "\u001b[0;31mH2OConnectionError\u001b[0m                        Traceback (most recent call last)",
      "\u001b[0;32m<ipython-input-4-b9f7f1c8d2c5>\u001b[0m in \u001b[0;36m<module>\u001b[0;34m\u001b[0m\n\u001b[0;32m----> 1\u001b[0;31m \u001b[0mautoml\u001b[0m \u001b[0;34m=\u001b[0m \u001b[0mH2OAutoML\u001b[0m\u001b[0;34m(\u001b[0m\u001b[0mmax_runtime_secs\u001b[0m\u001b[0;34m=\u001b[0m\u001b[0;36m1200\u001b[0m\u001b[0;34m,\u001b[0m \u001b[0msort_metric\u001b[0m\u001b[0;34m=\u001b[0m\u001b[0;34m'RMSE'\u001b[0m\u001b[0;34m)\u001b[0m\u001b[0;34m\u001b[0m\u001b[0;34m\u001b[0m\u001b[0m\n\u001b[0m\u001b[1;32m      2\u001b[0m \u001b[0mautoml\u001b[0m\u001b[0;34m.\u001b[0m\u001b[0mtrain\u001b[0m\u001b[0;34m(\u001b[0m\u001b[0mx\u001b[0m\u001b[0;34m,\u001b[0m \u001b[0my\u001b[0m\u001b[0;34m,\u001b[0m \u001b[0mtraining_frame\u001b[0m\u001b[0;34m=\u001b[0m\u001b[0mh2train\u001b[0m\u001b[0;34m)\u001b[0m\u001b[0;34m\u001b[0m\u001b[0;34m\u001b[0m\u001b[0m\n\u001b[1;32m      3\u001b[0m \u001b[0mleader_board3\u001b[0m \u001b[0;34m=\u001b[0m \u001b[0mautoml\u001b[0m\u001b[0;34m.\u001b[0m\u001b[0mleaderboard\u001b[0m\u001b[0;34m\u001b[0m\u001b[0;34m\u001b[0m\u001b[0m\n\u001b[1;32m      4\u001b[0m \u001b[0mleader_board3\u001b[0m\u001b[0;34m.\u001b[0m\u001b[0mhead\u001b[0m\u001b[0;34m(\u001b[0m\u001b[0;34m)\u001b[0m\u001b[0;34m\u001b[0m\u001b[0;34m\u001b[0m\u001b[0m\n",
      "\u001b[0;32m/usr/local/lib/python3.7/site-packages/h2o/automl/autoh2o.py\u001b[0m in \u001b[0;36m__init__\u001b[0;34m(self, nfolds, balance_classes, class_sampling_factors, max_after_balance_size, max_runtime_secs, max_runtime_secs_per_model, max_models, stopping_metric, stopping_tolerance, stopping_rounds, seed, project_name, exclude_algos, include_algos, exploitation_ratio, modeling_plan, monotone_constraints, algo_parameters, keep_cross_validation_predictions, keep_cross_validation_models, keep_cross_validation_fold_assignment, sort_metric, export_checkpoints_dir, verbosity)\u001b[0m\n\u001b[1;32m    140\u001b[0m         \u001b[0;31m# Check if H2O jar contains AutoML\u001b[0m\u001b[0;34m\u001b[0m\u001b[0;34m\u001b[0m\u001b[0;34m\u001b[0m\u001b[0m\n\u001b[1;32m    141\u001b[0m         \u001b[0;32mtry\u001b[0m\u001b[0;34m:\u001b[0m\u001b[0;34m\u001b[0m\u001b[0;34m\u001b[0m\u001b[0m\n\u001b[0;32m--> 142\u001b[0;31m             \u001b[0mh2o\u001b[0m\u001b[0;34m.\u001b[0m\u001b[0mapi\u001b[0m\u001b[0;34m(\u001b[0m\u001b[0;34m\"GET /3/Metadata/schemas/AutoMLV99\"\u001b[0m\u001b[0;34m)\u001b[0m\u001b[0;34m\u001b[0m\u001b[0;34m\u001b[0m\u001b[0m\n\u001b[0m\u001b[1;32m    143\u001b[0m         \u001b[0;32mexcept\u001b[0m \u001b[0mh2o\u001b[0m\u001b[0;34m.\u001b[0m\u001b[0mexceptions\u001b[0m\u001b[0;34m.\u001b[0m\u001b[0mH2OResponseError\u001b[0m \u001b[0;32mas\u001b[0m \u001b[0me\u001b[0m\u001b[0;34m:\u001b[0m\u001b[0;34m\u001b[0m\u001b[0;34m\u001b[0m\u001b[0m\n\u001b[1;32m    144\u001b[0m             \u001b[0mprint\u001b[0m\u001b[0;34m(\u001b[0m\u001b[0me\u001b[0m\u001b[0;34m)\u001b[0m\u001b[0;34m\u001b[0m\u001b[0;34m\u001b[0m\u001b[0m\n",
      "\u001b[0;32m/usr/local/lib/python3.7/site-packages/h2o/h2o.py\u001b[0m in \u001b[0;36mapi\u001b[0;34m(endpoint, data, json, filename, save_to)\u001b[0m\n\u001b[1;32m    106\u001b[0m     \"\"\"\n\u001b[1;32m    107\u001b[0m     \u001b[0;31m# type checks are performed in H2OConnection class\u001b[0m\u001b[0;34m\u001b[0m\u001b[0;34m\u001b[0m\u001b[0;34m\u001b[0m\u001b[0m\n\u001b[0;32m--> 108\u001b[0;31m     \u001b[0m_check_connection\u001b[0m\u001b[0;34m(\u001b[0m\u001b[0;34m)\u001b[0m\u001b[0;34m\u001b[0m\u001b[0;34m\u001b[0m\u001b[0m\n\u001b[0m\u001b[1;32m    109\u001b[0m     \u001b[0;32mreturn\u001b[0m \u001b[0mh2oconn\u001b[0m\u001b[0;34m.\u001b[0m\u001b[0mrequest\u001b[0m\u001b[0;34m(\u001b[0m\u001b[0mendpoint\u001b[0m\u001b[0;34m,\u001b[0m \u001b[0mdata\u001b[0m\u001b[0;34m=\u001b[0m\u001b[0mdata\u001b[0m\u001b[0;34m,\u001b[0m \u001b[0mjson\u001b[0m\u001b[0;34m=\u001b[0m\u001b[0mjson\u001b[0m\u001b[0;34m,\u001b[0m \u001b[0mfilename\u001b[0m\u001b[0;34m=\u001b[0m\u001b[0mfilename\u001b[0m\u001b[0;34m,\u001b[0m \u001b[0msave_to\u001b[0m\u001b[0;34m=\u001b[0m\u001b[0msave_to\u001b[0m\u001b[0;34m)\u001b[0m\u001b[0;34m\u001b[0m\u001b[0;34m\u001b[0m\u001b[0m\n\u001b[1;32m    110\u001b[0m \u001b[0;34m\u001b[0m\u001b[0m\n",
      "\u001b[0;32m/usr/local/lib/python3.7/site-packages/h2o/h2o.py\u001b[0m in \u001b[0;36m_check_connection\u001b[0;34m()\u001b[0m\n\u001b[1;32m   2225\u001b[0m \u001b[0;32mdef\u001b[0m \u001b[0m_check_connection\u001b[0m\u001b[0;34m(\u001b[0m\u001b[0;34m)\u001b[0m\u001b[0;34m:\u001b[0m\u001b[0;34m\u001b[0m\u001b[0;34m\u001b[0m\u001b[0m\n\u001b[1;32m   2226\u001b[0m     \u001b[0;32mif\u001b[0m \u001b[0;32mnot\u001b[0m \u001b[0mh2oconn\u001b[0m \u001b[0;32mor\u001b[0m \u001b[0;32mnot\u001b[0m \u001b[0mh2oconn\u001b[0m\u001b[0;34m.\u001b[0m\u001b[0mcluster\u001b[0m\u001b[0;34m:\u001b[0m\u001b[0;34m\u001b[0m\u001b[0;34m\u001b[0m\u001b[0m\n\u001b[0;32m-> 2227\u001b[0;31m         \u001b[0;32mraise\u001b[0m \u001b[0mH2OConnectionError\u001b[0m\u001b[0;34m(\u001b[0m\u001b[0;34m\"Not connected to a cluster. Did you run `h2o.connect()`?\"\u001b[0m\u001b[0;34m)\u001b[0m\u001b[0;34m\u001b[0m\u001b[0;34m\u001b[0m\u001b[0m\n\u001b[0m\u001b[1;32m   2228\u001b[0m \u001b[0;34m\u001b[0m\u001b[0m\n\u001b[1;32m   2229\u001b[0m \u001b[0;32mdef\u001b[0m \u001b[0m_connect_with_conf\u001b[0m\u001b[0;34m(\u001b[0m\u001b[0mconn_conf\u001b[0m\u001b[0;34m)\u001b[0m\u001b[0;34m:\u001b[0m\u001b[0;34m\u001b[0m\u001b[0;34m\u001b[0m\u001b[0m\n",
      "\u001b[0;31mH2OConnectionError\u001b[0m: Not connected to a cluster. Did you run `h2o.connect()`?"
     ]
    }
   ],
   "source": [
    "automl = H2OAutoML(max_runtime_secs=1200, sort_metric='RMSE')\n",
    "automl.train(x, y, training_frame=h2train)\n",
    "leader_board3 = automl.leaderboard\n",
    "leader_board3.head()"
   ]
  },
  {
   "cell_type": "code",
   "execution_count": null,
   "metadata": {},
   "outputs": [],
   "source": []
  }
 ],
 "metadata": {
  "kernelspec": {
   "display_name": "Python 3",
   "language": "python",
   "name": "python3"
  },
  "language_info": {
   "codemirror_mode": {
    "name": "ipython",
    "version": 3
   },
   "file_extension": ".py",
   "mimetype": "text/x-python",
   "name": "python",
   "nbconvert_exporter": "python",
   "pygments_lexer": "ipython3",
   "version": "3.7.8"
  }
 },
 "nbformat": 4,
 "nbformat_minor": 4
}
